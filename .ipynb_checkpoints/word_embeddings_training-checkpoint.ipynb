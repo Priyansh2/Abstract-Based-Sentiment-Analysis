{
 "cells": [
  {
   "cell_type": "code",
   "execution_count": 8,
   "metadata": {
    "ExecuteTime": {
     "end_time": "2018-12-28T18:40:53.157959Z",
     "start_time": "2018-12-28T18:40:53.142980Z"
    }
   },
   "outputs": [
    {
     "name": "stdout",
     "output_type": "stream",
     "text": [
      "['/device:CPU:0', '/device:XLA_GPU:0', '/device:XLA_CPU:0', '/device:GPU:0', '/device:GPU:1', '/device:GPU:2', '/device:GPU:3']\n",
      "['CPU cores: 40 ']\n"
     ]
    }
   ],
   "source": [
    "from gensim.models.word2vec import Word2Vec\n",
    "from gensim.models.fasttext import FastText\n",
    "import gensim\n",
    "import os,json\n",
    "import multiprocessing\n",
    "from collections import defaultdict\n",
    "from tensorflow.python.client import device_lib\n",
    "def get_available_devices():\n",
    "    local_device_protos = device_lib.list_local_devices()\n",
    "    return [x.name for x in local_device_protos]\n",
    "print(get_available_devices())\n",
    "cores = multiprocessing.cpu_count()\n",
    "print(\"['CPU cores:\",cores,\"']\")\n",
    "script_path = os.path.dirname(os.path.abspath('__file__'))\n",
    "stopwords = set(\n",
    "    ['i', 'me', 'my', 'myself', 'we', 'our', 'ours', 'ourselves', 'you', 'your', 'yours', 'yourself', 'yourselves',\n",
    "     'he', 'him', 'his', 'himself', 'she', 'her', 'hers', 'herself', 'it', 'its', 'itself', 'they', 'them', 'their',\n",
    "     'theirs', 'themselves', 'what', 'which', 'who', 'whom', 'this', 'that', 'these', 'those', 'am', 'is', 'are', 'was',\n",
    "     'were', 'be', 'been', 'being', 'have', 'has', 'had', 'having', 'do', 'does', 'did', 'doing', 'a', 'an', 'the',\n",
    "     'and', 'but', 'if', 'or', 'because', 'as', 'until', 'while', 'of', 'at', 'by', 'for', 'with', 'about', 'against',\n",
    "     'between', 'into', 'through', 'during', 'before', 'after', 'above', 'below', 'to', 'from', 'up', 'down', 'in',\n",
    "     'out', 'on', 'off', 'over', 'under', 'again', 'further', 'then', 'once', 'here', 'there', 'when', 'where', 'why',\n",
    "     'how', 'all', 'any', 'both', 'each', 'few', 'more', 'most', 'other', 'some', 'such', 'no', 'nor', 'not', 'only',\n",
    "     'own', 'same', 'so', 'than', 'too', 'very', 's', 't', 'can', 'will', 'just', 'don', 'should', 'now'])\n",
    "STOP=stopwords"
   ]
  },
  {
   "cell_type": "code",
   "execution_count": 9,
   "metadata": {
    "ExecuteTime": {
     "end_time": "2018-12-28T18:40:54.585883Z",
     "start_time": "2018-12-28T18:40:54.580551Z"
    }
   },
   "outputs": [],
   "source": [
    "def replacewith(input_str, pattern, replaceWith): \n",
    "    return input_str.replace(pattern, replaceWith)\n",
    "def extract_data(data_file,polarity_map,max_len=80):\n",
    "    data = open(data_file,'r').readlines()\n",
    "    corpus=[]\n",
    "    for i in range(0,len(data),3):\n",
    "        temp={}\n",
    "        if len(data[i].split(\"\\n\")[0])>=max_len:\n",
    "            temp[\"sentence\"] = data[i].split(\"\\n\")[0]\n",
    "            temp[\"aspect_term\"] = data[i+1].split(\"\\n\")[0]\n",
    "            temp[\"polarity\"] = polarity_map[data[i+2].split(\"\\n\")[0]]\n",
    "            corpus.append(temp)\n",
    "    return corpus "
   ]
  },
  {
   "cell_type": "code",
   "execution_count": 10,
   "metadata": {
    "ExecuteTime": {
     "end_time": "2018-12-28T18:40:55.577680Z",
     "start_time": "2018-12-28T18:40:55.558030Z"
    }
   },
   "outputs": [
    {
     "name": "stdout",
     "output_type": "stream",
     "text": [
      "Number of training sentences:  3699\n",
      "Number of testing sentences:  1134\n"
     ]
    }
   ],
   "source": [
    "polarity_map={\"1\":\"positive\",\"-1\":\"negative\",\"0\":\"neutral\"}\n",
    "train_data=script_path+\"/data/restaurant/rest_2014_train.txt\"\n",
    "test_data=script_path+\"/data/restaurant/rest_2014_test.txt\"\n",
    "custom_emb_path=script_path+\"/custom_embeddings/\"\n",
    "train= extract_data(train_data,polarity_map,max_len=0)\n",
    "test = extract_data(test_data,polarity_map,max_len=0)\n",
    "print(\"Number of training sentences: \",len(train))\n",
    "print(\"Number of testing sentences: \",len(test))"
   ]
  },
  {
   "cell_type": "code",
   "execution_count": 11,
   "metadata": {
    "ExecuteTime": {
     "end_time": "2018-12-28T18:40:56.934552Z",
     "start_time": "2018-12-28T18:40:56.931005Z"
    }
   },
   "outputs": [],
   "source": [
    "def load_sentences(data):\n",
    "    sentences=[]\n",
    "    for x in data:\n",
    "        sent = replacewith(x[\"sentence\"],\"$T$\",x[\"aspect_term\"])\n",
    "        sentences.append(sent.split())\n",
    "    return sentences    "
   ]
  },
  {
   "cell_type": "code",
   "execution_count": 12,
   "metadata": {
    "ExecuteTime": {
     "end_time": "2018-12-28T18:40:58.501524Z",
     "start_time": "2018-12-28T18:40:58.485369Z"
    }
   },
   "outputs": [
    {
     "name": "stdout",
     "output_type": "stream",
     "text": [
      "Number of training sentences:  3699\n",
      "Number of testing sentences:  1134\n"
     ]
    }
   ],
   "source": [
    "train_sents = load_sentences(train)\n",
    "test_sents = load_sentences(test)\n",
    "print(\"Number of training sentences: \",len(train_sents))\n",
    "print(\"Number of testing sentences: \",len(test_sents))"
   ]
  },
  {
   "cell_type": "code",
   "execution_count": 13,
   "metadata": {
    "ExecuteTime": {
     "end_time": "2018-12-28T18:41:33.898083Z",
     "start_time": "2018-12-28T18:41:28.468654Z"
    }
   },
   "outputs": [],
   "source": [
    "# train model\n",
    "'''cbow_model = Word2Vec(train_sents,size=300,window=3,min_count=1,workers=cores)\n",
    "skip_model = Word2Vec(train_sents,size=300,window=3,min_count=1,workers=cores,sg=1)\n",
    "ft_model = FastText(train_sents,size=300,window=3,min_count=1,workers=cores,sg=1)\n",
    "ft_model.save(custom_emb_path+\"ft_model.bin\")\n",
    "cbow_model.save(custom_emb_path+'cbow_model.bin')\n",
    "skip_model.save(custom_emb_path+'skip_model.bin')'''"
   ]
  },
  {
   "cell_type": "code",
   "execution_count": 17,
   "metadata": {
    "ExecuteTime": {
     "end_time": "2018-12-28T18:43:41.626455Z",
     "start_time": "2018-12-28T18:43:40.325682Z"
    }
   },
   "outputs": [],
   "source": [
    "w2v_model = Word2Vec.load(custom_emb_path+'cbow_model.bin')\n",
    "ft_model = FastText.load(custom_emb_path+\"ft_model.bin\")"
   ]
  },
  {
   "cell_type": "code",
   "execution_count": 18,
   "metadata": {
    "ExecuteTime": {
     "end_time": "2018-12-28T18:43:42.961348Z",
     "start_time": "2018-12-28T18:43:42.947912Z"
    }
   },
   "outputs": [
    {
     "name": "stdout",
     "output_type": "stream",
     "text": [
      "FastText(vocab=4435, size=300, alpha=0.025)\n",
      "\n",
      "Words in vocabulary: \n",
      "['overdone', 'again', 'Grilled', 'moderately', 'Kosher', 'grace', 'tired', 'Alain', 'cheap', 'Abby', \"'em\", 'megadeth', 'himself', 'Bombay', 'tiled', 'superior', 'revisiting', 'citysearch', '2-person', 'good', 'waters', 'Mare', 'ONE', 'great', '200', 'grab', 'excellence', 'raucus', 'heritage', 'soon', 'well', 'aisle', 'elegant', 'Grocery', 'Japanese', 'alcohol', 'mussaman', 'apologetic', 'feels', 'Chef', 'such', 'words', 'inside-out', 'asbolute', 'marinated', 'where', 'mixed', '!!!', 'jay-z', 'featuring', 'texture', 'decoration', 'lurking', 'appears', 'pretension', 'Gods', 'grow', 'aside', 'pinnacles', 'mains', 'basmati', 'sea', 'Sea', 'These', 'hinting', 'catching', 'swirl', 'employees', 'hold', 'worried', 'Chowder', 'solid', 'per', 'town', 'priced', 'Kennsington', 'marine', 'Godmother', 'creme', 'super', 'implies', 'earth', 'anyones', 'varietys', 'problem', '30', 'staples', 'disappointment', 'experimenting', 'Birthday', 'i.e.', 'extensive', 'apetizers', 'Horrible', 'continued', 'Lizard', 'pie', '160', 'pray', 'stopped', 'know', 'fillet', 'virgnin', 'Tasty', 'brings', 'sorbet', 'ice', 'lt', 'wasnt', 'complaining', 'lets', ':)', 'quasi-thai', 'lived', 'subtle', 'waste', 'drafty', 'annual', 'choices', 'welcomes', 'laying', 'holding', 'venues', 'well-prepared', 'eventhough', 'basic', 'lie', 'scoops', 'try', 'ok', 'Northeastern', 'Liberty', 'recommended', 'Light', 'remember', 'nori', 'milk', 'Found', 'the', 'lanes', 'Much', 'fountain', 'approached', 'recomend', 'unlimited', 'return', 'downright', 'terrific', 'Ley', 'Ghetto', 'dills', 'remains', 'Someone', 'Overall', 'masaman', 'folks', 'Kai', 'classy', 'pre-fixe', 'family', 'routinely', 'Roxy', 'Grand', 'etched', 'incredibly', 'Statue', 'wasabi', 'beaten', 'front', 'OUR', 'svc', 'hey', 'cell', 'Odd', 'tartar', 'Grace', 'broth', 'avocado', 'makhani', 'back', 'trendi', 'answering', 'speedy', 'written', 'golden', 'ravioli', 'overcrowded', 'BBQ', 'alternative', 'accompaniment', 'hand-crafted', \"'d\", 'Never', 'topping', 'lingered', 'shrimp', 'Balthazar', 'dinnertime', 'winter', 'Puree', 'raddichio', 'why', 'poached', 'pistachio', 'easier', 'Mojito', 'particular', 'herb', 'cash', 'stock', 'decent', 'class', 'unfortunately', 'yellowfun', 'Lanterna', 'improves', 'unexpected', 'effort', 'sliced', 'confusing', 'practically', 'bummer', 'adopted', 'Bass', 'Consequently', 'shell', 'ladies', 'caramelized', 'fish', 'resembled', 'Lafayette', 'writing', 'THe', 'stringy', 'performance', 'max', 'current', 'house', 'energeic', 'oh', 'busier', 'portion', 'Jimmy', 'staff', 'spectacular', 'refleshment', 'differently', 'beers', 'us', 'greatly', 'dressing', 'Trang', 'Little', 'factor', 'Traditional', 'years', 'wallet', 'Instead', 'apparently', '3rd', 'heartier', 'With', 'Artisanal', 'asking', 'Russe', 'getup', 'rough', 'Famous', 'gelato', 'Halibut', 'lies', 'complicated', 'Deliveries', 'mushrooms', 'keep', 'hole-in-the-wall', 'community', 'undoubtedly', 'kitchen', 'Soh', 'Sauce', 'away', 'filets', 'Urchin', 'across', 'dhal', 'Perhaps', 'pressured', 'event', 'screwed', 'pricey', 'particularly', 'seatin', 'covers', '6.25', 'Stike', 'fusion', 'NYU', 'Normally', 'share', 'discreet', 'decided', 'generous', 'UMMMMM', 'homemade', 'them', 'forgotten', 'germain', 'quick', 'Nov.', 'Wait', 'easy', 'girlfriends', 'From', 'deserves', 'cry', 'push', 'What', 'feeling', 'Cozy', 'northside', 'playing', 'shank', 'short', 'Special', 'enjoy', 'accompanied', 'snobs', 'apart', 'walnuts', 'steep', 'whether', 'pastrami', 'skimp', 'fresher', 'packages', 'Pakistani', 'happen', 'SERVICE', 'Frankly', 'chosen', 'Pizzeria', 'SUPPORT', 'digestive', 'be', '28', 'experience.The', 'servers', 'olive', 'amazing', 'enhance', 'running', 'bringing', 'peaceful', 'buffet', 'possibly', 'challenge', 'bet', 'Taj', 'sky', 'described', 'notified', 'jalapeno-lime', 'sauc', 'lovers', 'Nice', 'Maybe', 'innovators', 'office', ':', 'nonchalant', 'Ye', 'warmly', 'greens', 'Indian', 'Everything', 'privacy', 'whiff', 'lightly', 'served', 'must', 'And', 'jeans', 'whatsoever', 'Asian', 'accomodating', 'classic', 'service', 'too', 'inobtrusive', 'spicing', '70', 'quickly', '-', 'Gigondas', 'wheat', 'pricing', 'Guizhou', 'caliber', 'ot', 'son', '11', 'photobook', 'Hop', 'went', 'sophistication', 'crawfish', 'Here', 'ou', 'cakes', 'Slightly', 'around', 'school', 'Shabu-Shabu', 'catch', 'thick', 'flashy', 'rices', 'food-quality', 'Only', 'ceviche', '*', 'serves', 'hungry', 'server', 'Pink', 'prepare', 'distract', 'Could', 'amid', 'raucous', 'amazed', 'roti', 'professional', 'concerned', 'personally', 'yasuda', 'comparable', 'hanger', 'eye-pleasing', 'onions', 'steak', 'CHEAP', 'Right', 'car', 'outrageously', 'bean', 'empty', 'toppings', 'Siam', 'Lyle', 'piped', 'kick', 'hosting', 'Fish', 'think', 'available', 'blasts', 'whoever', 'carpaachio', 'York', 'Granted', 'Strike', 'favorable', 'spinach', 'grandfather', 'Good', 'pickles', 'Add', 'using', 'simply', 'item', 'sleek', 'Zero', 'wrap', 'Jazz', 'track', 'chic', 'Ess-A-Bagel', 'soda', 'unimposing', 'Tapas', 'chair', 'previews', 'salty', 'containers', 'tartare', 'footing', 'Best', 'Disney', 'portraits', 'establishment', 'faced', 'neighbor', 'private', 'Peter', 'amiable', 'everybody', 'halibut', 'udon', 'humble', 'Then', 'edge', 'nar', 'Frederick', 'wait-staff', 'guided', 'level', 'cared', 'mezz', 'better', 'wandered', 'places', 'zen', 'So', 'pictures', 'corned', 'ant', 'baluchi', '5th', 'group', 'grilling', 'Unlike', 'roof', 'talk', 'ordered', 'sausage', 'out-of-this', 'ours', 'sometime', 'Apparently', 'Tom', 'House', 'slurp', 'disapointing', 'prix-fixe', 'unisex', 'character', 'Owner', 'ly', 'fixe', 'fine', 'listening', 'accomodate', 'g', 'Boton', 'slope', 'calzone', 'st', 'couples', 'tasts', 'vegetables', 'friendlier', 'Moderate', 'intimidating', 'chilled', 'do', 'pig', 'hang', 'vinegar', 'heated', 'rarity', 'sashimi', 'cooked-to-perfection', 'satisfying', 'crab-cake', 'Mcdonald', 'longer', 'ins', 'worth', 'bottle', 'shame', 'bill', 'happens', 'diner', 'Suan', 'Ive', 'cabaret', 'mini', 'L.A.', 'Italian', 'England', 'percent', 'tuna', 'BY', 'Toons', 'alive', 'Spicy', 'Delivery', '6', 'Rice', 'under-cooked', 'Indoor', 'brickwork', 'Joya', 'thirty', 'birthday', 'bone', 'interior', 'Pam', 'terms', 'voluminous', 'Filet', 'frites', 'bathrooms', 'NJ', 'drank', 'worked', 'come', 'wonder', 'outside', 'experienced', 'Bay', 'door', 'delicious', 'it-especially', 'complementary', 'provides', 'seated', 'crab', 'friends', 'hardcore', 'vs.', 'Angel', 'lights', 'my', 'hip', 'shows', 'BIG', 'blackboard', 'literally', 'hundreds', 'cucumber', 'smell', 'plentiful', 'grilled', 'parmesean', 'WONDERFUL', 'o.k.', 'beancurd', 'parathas', 'below', 'later', 'tiny', 'apprised', 'getting', 'buns', 'e', 'Kind', 'internet', 'leaf', 'hoping', 'Oh', 'curry', 'slice', 'anticipating', 'grabbed', 'licked', 'cubes', 'wait', '3.00', 'innovations', 'Christmas', 'palate', 'energy', 'features', 'students', 'drinks', 'option', 'understated', 'badly', 'attentive', 'fats', 'regular', 'assuming', 'Katz', 'Especially', 'lit', 'Place', 'gotten', 'most', 'not', 'leaving', 'awesome', '5.99', 'Barney', 'chosing', 'Nolita', 'sketchy', 'strips', 'Americanized', 'refinement', 'Whem', 'expert', 'cramped', 'Scallops', 'heavenly', 'offers', 'Aunthentic', 'seasonal', 'night', 'above', 'Which', 'clientele', 'keeps', 'straight', \"n't\", 'B', 'reflection', 'Avenue', 'comes', 'dumplings', 'floor', 'dim', 'ways', 'panchetta', 'tries', 'those', 'weekends', 'massamman', 'fl', 'Thius', 'imposing', 'build', 'santa', 'boring', 'expecting', 'filling', 'comparison', 'coem', 'mayonnaise', 'standout', 'Acceptable', 'Tao', 'joints', 'sitting', 'breads', 'relatively', 'gave', 'improper', 'me', 'trendy', 'Share', 'it', 'impressed', 'claiming', 'MADE', 'Fatty', 'oily', 'pinnacle', 'want', 'bright', 'nightmare', 'disloyal', 'wasabe', 'perks', 'exists', 'past', 'tender', 'whip', 'decour', 'awful', 'thinner', 'act', 'boldness', 'likely', 'Yoshi', 'manhathan', 'waiter', 'Very', 'paneer', 'ON', 'maximize', 'TAILS', 'ENJOYED', 'amazin', 'paninis', 'did', 'overlooking', 'stuffed', 'horribly', 'simmered', 'open', 'tag', 'hurry', 'condiments', 'corn', 'seeming', 'except', 'club', 'scream', 'Pancake', 'sneakers', 'before', 'listen', 'Time', 'par', 'middle', 'spare', 'mushroom', 'Deli', 'code', 'bite', 'speaks', 'Complimentary', 'ALL', 'Succulent', 'attraction', 'rice', 'chinese', 'uncourteous', 'hole', 'Jamun', 'In', 'mad', 'ambient', 'usually', 'O.K.', 'near-by', 'binge', 'Both', 'Nuts', 'outing', 'overcompensate', '6.95', 'joint', 'donut', 'Scalina', 'consistently', 'SERVING', 'chettinad', 'Mulino', 'separating', 'ask', 'commenting', 'any', 'outdoor', 'ranting', 'Shrimp', 'become', 'full', 'Pair', 'Queens', 'Soft', 'styles', 'rub', 'appetizers', 'hear', 'tried', 'lunch', 'braised', 'smoked', 'friendly', 'piping', 'trays', 'recognize', 'chance', 'uni', 'Another', 'la', 'street', 'Fluke', 'eyes', 'world', 'worry', 'miso', 'He', 'Shuizhu', 'langostine', 'tastier', 'MAJOR', 'Quite', 'Nosh', 'YET', 'Waitstaff', 'buttah', 'Cube', 'inviting', 'pieces', 'chai', 'walk-up', 'Fantastic', 'unique', 'Wu', 'Ask', 'bannan', '48th', 'list', 'eaten', 'Tanya', 'she', 'worse', 'perfect', 'Italy', 'budget', 'in', 'Pad', '6.00', 'beef', 'warmer', 'takes', 'unremarkable', '23.95', 'feature', 'mein', 'deserve', 'inexpertly', 'appointments', 'constantly', 'kalbi', 'Gnochi', 'colorful', 'undercooked-the', 'Solid', 'arrival', 'guests', 'young', 'glad', 'finished', 'enthusiastic', 'each', 'imitation', 'Pub', 'FOOD', 'foggy', 'sipping', 'magic', 'unaccommodating', 'skiline', 'tasting', 'lay', 'pizzerias', 'over-bearing', 'delivered', 'stand', 'Dinnerbroker', 'inside', 'legacies', 'eating', 'tunnel', 'cake', 'obtained', 'concoction', 'Has', 'hours', 'LS', 'Thailand', 'specialty', 'Restaurant', 'slightly', 'begin', 'Margaritas', 'showcase', 'enjoys', 'Been', 'lectured', 'Jason', 'realtively', 'attract', 'overwhelmed', 'Waiters', 'Liang', 'bands', 'bruscetta', 'thrilled', 'stands', 'General', 'curtain', 'candles', 'Well', 'hike', 'mind', 'sensations', 'dress', 'page', 'sliding', 'expectations', 'Pere', 'lobster', 'loin', 'Total', 'hostile', 'he', 'scallop', 'turn', 'minimal', 'carts', 'rather', 'Favourite', 'raise', 'Onglet', 'caprese', 'phone', 'groundbreaking', 'unnecessarily', 'rejoice-all', 'crackling', 'suggest', 'Ave.', 'Basil', 'patient', 'lady', 'find', 'grp', 'positive', 'Tell', 'Tan', 'comfortable', 'atomosphere', 'cream', 'Long', 'delicous', 'passing', 'stuffing', 'week', 'Volare', 'THR', 'If', 'Reuben', 'REAL', 'abrupt', 'steamy', 'closing', 'added', 'overbearing', 'RESTAURANTS', 'But', 'oozing', 'now', 'cooking', 'BISTRO', 'problems', 'saw', 'tatin', 'crumbled', 'East', 'forever', 'fans', 'blond', 'review', 'Croquette', 'hand', 'meal', 'would', 'through', 'varieties', 'Il', 'overpowering', 'steakhouse', 'beverage', 'first', 'Hats', 'tastes', 'happening', 'McDs', 'entire', 'butter', 'sublime', 'stagnating', 'overcooking', 'quietly', 'faves', 'BTs', 'pleasing', 'concern', 'multiplied', 'certainly', 'At', 'individuals', 'exceeded', '60.00', 'counter', 'greeted', 'taj', 'sapphire', 'squash', 'hour', 'squished', 'kerosene', 'despite', 'Kati', 'essence', 'Located', 'give', 'attractions', 'woman', 'tasted', 'crowded', '50', 'ideal', 'man', 'yummy', 'boiling', 'sandwich', 'Curry', 'glass', 'walked', 'date', 'qualms', 'menu', 'dealing', 'hissed', 'courses', 'needs', '60', 'standard', 'snobby', 'NO', 'Decent', 'chole', 'Village', 'display', 'increase', 'entertain', 'photos', 'indistinguished', 'Check', 'vanilla', 'thats', 'Pick', 'pesto', 'living', 'to', 'very', 'hong-kong', 'Margheritta', 'Emilio', 'outshine', 'fantastic', 'obnoxious', 'Once', 'kicker', 'pho', 'terrine', 'recommand', 'Based', 'appreciates', 'whisks', 'crispier', 'mignon', 'sigh', 'apt', 'half', 'business', 'pour', 'trained', 'sub-par', 'reservation', 'some', 'nigiri', 'range', 'challah', 'fill', 'appitizers', 'careful', 'Teriyaki', 'Night', 'prix', 'HUNGRY', 'art', 'closely', 'pour-your-own', 'tone', 'commission', 'To', 'Jersey', 'impressive', '7', 'coming', 'short-order', 'you', 'Moules', 'lifetime', 'when', 'frequented', 'amazingly', 'apologize', 'changes', 'quarters', 'Usha', 'butternut', 'branzino', 'use', 's-good', 'substantially', 'Yellowtail', 'watery', 'moved', 'LOVE', 'vomit-inducing', 'so-so', 'played', 'Sunday', 'Butter', 'sampling', 'shorter', 'waterbug', 'difficulty', 'wines', 'Appetizers', 'building', 'forgot', 'au', 'soy', 'partly', 'Times', 'including', 'tipsy', 'oldies', 'Valentines', 'off-set', 'shops', 'dressed', 'Bo', 'Ducasse', 'blasted', 'took', 'although', 'began', 'translucent', 'ride', 'Late', 'made', 'bought', 'shipped', 'nearing', 'curtious', 'sauces', 'characters', 'nicest', 'rich', 'inspired', 'specify', 'here', 'Holy', 'signs', 'wintermelon', 'yourself', 'scents', 'patrons', 'card', 'satisfied', 'Change', 'Sara', '2-for', 'complained', 'soaked', 'ultra', 'word', 'hand-painted', 'maximum', 'adventurous', 'idea', 'salads', 'seats', 'uncomfortable', 'drumsticks', 'band', 'spots', 'palette', 'gulab', 'greeting', 'skipped', 'earlier', 'claims', 'Day', 'rest', 'couteract', 'botle', 'Le', 'upon', 'another', 'just', 'steaks', 'hesitant', 'margarite', 'Anywhere', 'reallocating', 'desert', 'Fresh', 'notch', 'encouraged', 'carte', 'trying', 'Napoli', 'vegetable', 'Saul', 'Chilean', 'match', 'horrible', 'ridiculously', 'surprisingly', 'dals', 'fromager', 'beautification', 'triples', 'repeated', 'rapido', 'tables', 'standards', 'Ballato', 'turnip', 'wide', 'Shockingly', 'Mom', 'integral', 'Emma', 'buy', 'X4', 'hotpot', 'source', '80', 'opposite', 'belt', 'Took', 'funny', 'pathetic', 'maze', 'edible', 'complete', 'ya', 'bench', 'Manhattan', '49', 'Yorkers', 'reluctant', 'Growing', 'Spreads', 'like', 'eclectic', 'precisely', 'historic', 'impeccable', 'Fresca', 'appetites', 'little', 'dream', 'CARE', 'naan', 'ate', 'Sripraphai', 'We', 'everythig', 'platter', 'crowds', 'owners', '100', 'friend', 'overated', 'pastries', 'grease', 'cards', 'chilaquiles', 'burn-outs', 'Lahore', 'restaurant', 'Pelligrino', 'DJ', 'guess', 'pleasnt', 'regularly', 'third', 'SoHo', 'soothing', 'boarderline', '!!!!', 'deco', 'presentation', 'limited', 'incredible', 'cheeses', 'wood', 'addition', 'waitress', 'feet', 'does', 'lobby', 'accessible', 'manna', 'CAREFUL', 'capex', 'lasagna', 'request', 'Compared', 'magnificent', \"d'\", 'five', 'average', 'minute', 'espresso', 'nori-wrapped', 'unusually', 'popular', 'oven', 'bun', 'sevpuri', 'selected', 'artisanal', 'operate', 'Though', 'def', 'vacation', 'sligtly', 'Such', 'offerng', 'Ess-a', 'Family', 'pizzas', 'charming', 'advanatage', 'expanded', 'Two', 'Noir', 'bhelpuri', 'seems', 'square', 'deli', 'forgiven', '70.00', 'how', 'compensate', 'sunken', 'entertainment', 'premisis', 'Lassi', 'RESULT', 'unprofessional', 'one', 'Bukhara', 'by', 'pita', '3-4', 'am', 'gathered', 'pulled', 'star', 'deficiencies', 'Williamsburg', 'GF', 'chips', 'charred', 'back-to-back', 'leaves', 'fit', 'put', 'taken', 'wanted', 'touristy', 'reliable', 'tap', 'month', 'crazy', 'sides', 'preparation', 'DO', 'Cheese', 'saffron', 'Ribbon', 'workers', 'belly', 'slipped', 'dull', 'freeze', 'standing', 'life', 'interesting', '6:00', 'entering', 'appetizing', 'freshmess', 'sure', 'dissapointing', 'Wednesday', 'American', 'employ', 'cod', 'attracts', '2.50', 'miserable', 'gig', 'Every', 'chongqing', 'drinking', \"'\", 'nha', 'Zabars', 'technique', 'soupy', 'way', 'supplied', 'booked', 'brought', 'twice', 'Masala', 'call', 'Downstairs', 'BURNT', 'pm', 'Killer', 'Side', 'itself', 'On', 'Otherwise', 'maybe', 'diverse', 'memorable', 'redone', 'deal', 'organic', 'attend', 'view', 'disappointed', 'EXORBITANT', 'Cakebread', 'case', 'arrives', 'six', 'beer', 'heavy', 'working', 'Yankees', 'candle-light', 'Yes', 'whitefish', 'chu', '3-6', 'beauty', 'sensual', 'dowtown', 'equation', 'Dahkin', 'Izakaya', 'managed', 'heights', 'fabulous', 'baked', 'environment', 'Saturday', 'hot', 'newcomers', 'AC', 'REASONABLE', 'floored', 'partial', 'bunch', 'loves', 'extra', 'our', 'saying', 'evident', 'desk', 'relaxing', 'definitely', 'crossed', 'toninos', 'happy', 'Last', 'Teodora', 'web', 'NOT', 'japanese', 'grapes', 'Kendall', 'bit', 'indian', 'Sushi', 'burner', 'poorly', 'powder', 'tandoori', 'helpful', '8', 'tower', 'check', 'scruff', 'tagliatelle', 'bored', 'similarly', 'cart', 'prices', 'Bar', 'amounts', 'Order', 'meatsauce', 'elegantly', 'usher', 'generation-Fornini', 'drenched', '20', 'creatively', 'Boston', 'husband', 'deegan', 'boxes', 'poivre', 'chocolate', 'jukebox', 'TOASTING', 'Margharita', 'vegetarian', 'knowledgable', 'hated', 'Other', 'usual', 'Taxan', 'nightcap', 'chopsticks', 'Sixth', 'squid', 'jazz', 'reader', 'Ottimo', 'get', 'sangria', 'Sure', 'skimpy', 'WHAT', 'QUALITY', 'filled', 'saturday', 'By', 'type', 'cheeseburgers', 'paratha', 'Raga', 'Immediately', 'Manager', 'starving', 'crispy', 'hangout', 'parm', 'started', 'hit', 'excited', 'Mother', 'extraordinary', 'truly', 'brushetta', 'Tuk', 'greatest', 'dined', 'rate', 'knew', 'boths', 'maintain', 'buttery', 'pot-stickers', 'doubt', 'subway', 'Because', 'existant', 'modern', 'goat', 'laugh', 'oz', 'commend', 'tourist', 'non-busy', 'Usually', 'peak', 'unable', 'improved', 'An', 'passed', 'devine', 'tight', 'rule', 'further', 'Taiwan', 'chutneys', 'Try', 'Herky', 'cabbies', 'plat', 'MINUTES', 'laid', 'Were', 'there', 'edibility', 'aesthetic', 'party', 'charging', 'waitressing', 'Fri', 'thank', 'waitstaff', 'unhappy', 'place', 'graciously', 'PORTIONS', 'prixe', 'charge', 'knish', 'Jeffery', 'Not', 'refreshing', 'no', 'ever-changing', 'palets', 'combinations', 'heaven', 'mediocre', 'AND', 'watch', '3.25', 'outta', 'antipasti', 'stuffy', 'Too', 'drizzled', 'Meat', 'effects', 'into', 'Behind', 'flower', 'take-out', 'eggs', 'credit', 'ribs', 'fellow', 'stumbled', 'arrogant', 'out', 'drive', 'Mamoun', 'chevre', 'includes', 'co-workers', 'strict', 'opened', 'prime', 'understands', 'oblige', 'lassi', 'guy', 'out-of-town', 'directory', \"'s\", 'tons', 'ino', 'client', 'royalty', 'double', 'mayonaisse', 'pre-sliced', 'heating', 'Fedeli', 'zucchini', 'fun', 'plays', 'bubbly', 'apples', 'irritating', 'frog', 'pen', 'Cornelia', 'obvious', '10', 'requesting', 'criticize', 'died', 'overdue', 'Awsome', 'Ca', 'price', 'italian', 'especially', 'remembered', 'claimed', 'menu-fare', 'octopus', 'cooks', 'Please', 'balance', 'overhauled', 'downtown', 'Pinard', 'brioche', 'noodles', 'girlfriend', 'reserved', 'flavoring', 'Lexington', 'calzones', 'Fabulous', 'Bagel', 'Maine', 'heart', 'VT', 'being', 'WORST', 'prepared', 'key', 'beyond', 'fritters', 'asian-air', 'anniversary', 'three', 'everytime', 'Story', 'nothingon', 'Valentine', 'disappointing', 'Half-Price', 'Skewers', 'has', 'old-fashioned', 'courteous', 'mesclun', 'handled', 'surrounding', 'hundred', 'dazzling', 'horrid', 'SEASONAL', 'songs', 'fires', 'of', '55.00', 'occasions', 'negatively', 'Scopa', 'urchin', 'venture', 'Green', 'Love', 'hung', 'shrimps', 'Chance', 'lazy', 'day', 'box', 'erroneously', 'rasberry', 'meeting', 'line', 'okra', 'Your', 'maine', 'busy', 'near', 'CHEWY', 'pricy', 'fruit', 'men', 'etc.', 'summer', '15', '161', 'though', 'tofu', 'filet', 'Citysearch', 'Washington', 'flavorless', 'help', 'total', 'asian', 'robust', 'and', 'not-trying-too-hard', 'kick-ass', 'hurt', 'editorial', 'visit', 'Bread', 'chop', 'seemed', 'varied', 'surprising', 'quibbles', 'indeed', 'swordfish', 'nicely', 'mozzerella', 'Furthermore', 'explained', 'BUt', 'delightful', 'preparing', 'calories', 'fallback', 'bgel', 'sharing', 'unavailable', 'HAD', 'sun', 'lag', 'highlighting', 'Meal', 'Plain', 'numerous', 'suggestion', 'small', 'drip', 'echoes', 'dam', 'carrying', 'rooms', 'costs', 'Tuna', 'test', 'Kamikaze', 'head', 'hostess', 'plenty', 'celebrate', 'sandwhiches', 'Eel', 'lively', 'slow', 'luxury', 'PM', 'Tuscan', 'bumped', '19.95', '--', 'PAST', '8:00', 'pairings', 'flight', 'preference', 'Stay', 'charmingly', 'parking', 'shredded', 'Yellow', 'secluded', 'kababs', 'popcorn', 'colleague', 'fruits', 'dip', 'dry', 'closed', 'vegetarian-friendly', 'recieved', 'Nina', \"entre'es\", 'charts', 'delivery', 'lemon', 'anyway', 'stomach', 'mediterranean', 'quantity', 'Argentinian', 'Mexican', 'French', 'excpetiona', 'Gaskin', 'bagels', 'enormous', 'admire', 'mom', 'neither', 'posting', 'going', 'quick-cooked', 'ridding', 'Rolls', 'Steak', 'chaats', 'side', 'freindly', 'vietnamese', 'entranceway', 'appeared', ',', 'biscuits', 'convenient', 'ambiance', 'included', 'mention', 'importantly', 'read', '25', 'See', 'finishing', 'ginger', 'waiting', 'hospitable', 'rip-off', 'roasted', 'bathroom', 'superb', 'HAPPY', 'greater', 'MODERN', 'soft', 'inexpensive', 'nonsense', 'deep', 'guys', 'Upper', 'rose', 'Terrific', 'Will', 'points', 'cook', 'Tartare', 'unsurpassed', 'jump', 'blowing', 'ordering', 'looking', 'esp', 'gallery', 'Tried', 'lox', 'remained', 'enough', 'Tiffin', 'inovated', 'feat', 'helping', 'Delicious', 'Sangria', 'mash', 'thin', 'enter', 'thai', 'start', 'morning', 'Some', 'BEST', 'rushing', 'counted', 'parked', 'salt', 'brilliant', 'chalk', 'chairs', 'enjoyable', 'pureed', 'All', 'genuine', 'midtown', 'overwhelm', 'Paris', 'Would', 'Again', 'eat', 'completely', 'duck', 'greet', 'chees', 'contract', 'daft', 'paying', 'Go', 'sans', 'village', 'judge', 'twice-1', 'specjal', 'amount', 'acted', 'Over', 'selections', 'HUGE', 'revenue', 'hoped', 'Guacamole', 'tom', 'friday', 'princesses', 'LOVED', 'your', 'families', 'classics', 'codfish', 'omakase', 'lousy', 'room', 'grand', 'pickels', 'Kensington', 'varys', 'precise', 'blows', 'menus', 'fake', 'appealing', 'Tony', 'Calcutta', 'bakery', 'done', 'reviewer', 'sidewalk', 'complain', 'ashamed', 'breezy', 'competent', 'Crab', 'Fast', 'rang', 'production', 'omelet', 'pancakes', 'exceptionally', 'deff', 'cater', 'diner-ish', '12', 'clumsy', 'elegance', 'fan', 'have', 'critic', 'plan', 'redeeming', 'Tail', 'Coming', 'after', 'moist', 'Vietnamese', 'patties', 'speaking', 'scampi', 'overly-ambitious', 'mark', 'offered', 'beat', 'fare', 'Admittedly', 'innovative', 'unheralded', 'Five', 'longtime', 'story', 'South', 'Sat', 'horrific', 'crap', 'popularity', 'evil', 'water', 'unforgetable', 'Breweries', 'Beef', 'WE', 'lack', 'bindi', 'until', 'approximately', 'antique-seeming', 'summer-eat', 'all', '...', 'competing', 'frist', 'go', 'waterbugs', 'steamed', 'Orsay', 'casserole', 'bills', 'apologized', 'candlevery', 'appreciation', 'Most', 'low-key', 'Se-Ew', 'limp', 'fe', 'A', 't', '35', 'loved', 'bartenders', 'flaky', 'respect', 'oyster', 'pound', 'i', 'trip', 'honestly', 'raving', 'ensuring', 'takeout', 'nearly', 'Forget', 'Leon', 'highlight', 'fooled', 'It', 'Sty-town', 'atmoshpere', 'pass', 'pastas', 'purchase', 'Inn', 'whats', 'discover', 'Fried', 'blue', 'mess', 'Broadway', 'exactly', 'shake', 'expresso', 'absurdly', 'heat', 'condensed', 'shakes', 'offeres', 'girls', 'air', 'allowing', 'boot', 'HH', 'Cafe', 'tapas', 'pink', 'That', 'under', 'buying', 'tear', 'moderate', 'mayo', 'mussel', 'orders', 'pre-theater', 'wipe', 'aunt', 'alone', 'Mott', 'Bartender', 'nite', 'ziti', 'stood', 'delectable', 'dine', 'continually', 'slighly', 'Threw', 'failed', 'eel', 'hard', 'unbearable', 'associates', 'dance', 'spotty', 'authentically', 'pad', 'opted', 'brick', 'will', 'simple', 'never', 'muggy', 'Roast', 'ca', 'atmorphere', 'knishes', 'pudding', 'scratch', 'corridor', 'Leaping', 'moreover', 'minimum', 'unless', 'smile', 'is', 'r', 'affordable', 'barely', 'asthetically', 'Cute', 'king', 'plates', 'end', 'certified', 'engine', 'whatever', 'attest', 'okay', 'reminded', 'Aside', 'Stuffing', 'Faan', 'However', 'caters', 'charged', 'differences', 'Delicate', 'Secret', 'importance', 'Simple', 'what', 'kept', 'on', 'regardless', 'pits', 'cheescake', 'none', 'Manhatten', 'smelled', 'provided', 'codes', 'always', 'Taiwanese', 'nasty', 'itsuperb', 'spent', 'soup', 'figured', 'accent', 'attended', 'uncle', 'crusted', 'complains', 'someone', 'let', 'panang', 'unfriendly', 'imagine', 'wife', 'black', 'sat', 'ew', 'inconsistent', 'laughed', 'chili', 'values', 'larger', 'vessel', 'new', 'patron', 'Midtown', 'smooth', 'fiance', 'sense', 'asks', 'Hyde', 'together', 'annoying', 'common', 'leftover', 'Spider', \"'ve\", 'stacks', 'Get', 'fritter', 'nothing', 'LARGE', 'cute', 'diners', 'could', 'Salad', 'feel', 'Patsy', 'inludes', '30th', 'People', 'wo', 'correct', 'IT', 'busboy', 'part', 'AT', 'gorgeously', 'tomato', 'drunken', 'oreganta', 'regulars', 'kielbasa', 'gin', 'suppose', 'melt', 'Prix', 'canned', 'pre-theatre', 'roe', 'rudely', 'steal', 'cuisin', 'hosts', 'tarte', 'dark', '%', 'works', 'reasonably', 'entered', 'clean', 'lounge', 'terminal', 'encounter', 'occasionally', 'fondue', 'sabbath', 'replaced', 'dhosas', 'really', 'enjoying', 'wander', 'over', 'afortune', 'say', 'ones', 'DF', 'child', 'everything', 'Excellent', 'risen', 'different', 'helped', 'Upon', 'Even', 'anyways', 'strength', 'corriander', 'ingrediants', 'cordial', 'taste', 'saves', 'compliment', 'January', 'job', 'tamarind', 'presentaion', 'UES', 'noted', 'personable', 'overheard', 'waiters', 'might', 'vs', 'cheapest', 'anywhere', 'stick', 'West', 'bagles', 'experience', 'creative', 'mozzarella', 'gummy', 'horrendous', 'knots', 'Mai', 'bacon', 'YUCK', 'treasure', 'pies', 'nazi-like', 'wants', 'mr.', 'seen', 'focus', 'exclaimed', 'sushi', 'sprinkled', 'reputation', 'catcher', 'polite', 'need', 'today', 'smaller', 'servants', 'scenery', 'EXTRMELY', 'things', 'a', 'considerably', 'affected', 'Its', 'knowledgeable', 'ordinary', 'Price', 'offensive', 'add', 'scallion', 'uniformly', 'quality', 'piece', 'still', 'Seattle', 'satisfy', 'styled', 'sardines', 'Mike', 'Deep', 'design', 'forks', 'pizza', 'subpar', 'masses', 'dreadful', 'basil', '@', 'INCREDIBLY', 'totally', 'highly', 'awsome', 'details', 'Why', 'pineapple', 'symphony', 'sticky', 'completes', 'restaurants', 'particulary', 'bottles', 'possible', 'speak', 'carry', 'puff', 'several', 'Thali', 'Cantonese', 'O', '10:15', 'next', 'bagel', 'Where', 'snappy', 'hope', 'dissappointed', 'bad', 'many', 'disappoint', 'kebabs', '.', 'atmosphere', 'roomier', 'unpretensious', 'palates', 'kamasutra', 'recommend', 'ala', 'Kenny', 'lovely', 'Outstanding', 'dates', 'corner', 'brassiere', 'discount', 'style', 'beginning', 'consistant', 'cigar', 'emphasis', 'based', 'Save', 'so', 'version', 'contrast', 'timely', 'avoid', 'Friendly', 'reaches', 'Our', 'look', 'Prices', 'Since', 'Going', 'Edamame', 'crappy', 'omelletes', 'theater', 'otherwise', 'soups', 'window', 'non', 'somehow', 'seat', 'Edible', '24', 'Similar', 'sesame', 'stated', 'mortal', 'heaped', 'Patroon', 'packed', 'yet', 'likeable', 'comforting', 'God', 'refused', 'companion', 'promise', 'delayed', 'overpack', 'experiance', 'types', 'early', '14.00', 'Weehawken', 'malai', '5:30', 'last', 'overlooked', 'toasted', 'sparsely', 'ignored', 'teriyaki', 'flowing', 'up', 'dismayed', 'pizzeria', 'sooo', 'Obv', 'grade', 'lonk', 'minnow', 'due', 'stalling', 'myself', 'deliveries', 'growing', 'familiar', 'servings', 'finally', 'Ummm', 'AVAILABLE', 'twenty', 'keeping', 'qualities', 'THAT', 'overcooked', 'coddled', 'coats', 'F', 'scores', 'half-price', 'proper', 'root', 'believe', 'Lemon', 'Thursday', 'Plus', 'welll', 'beverages', 'picks', 'agreable', 'reaching', 'general', 'terribly', 'melted', 'arrived', 'suggestions', 'Brooklyn', 'confused', 'Gelato', 'effective', 'Grill', 'beautiful', 'promptly.The', 'Bruno', 'its', 'champagne', 'holidays', 'Lucky', 'compared', 'Roth', 'BUT', 'herbs', 'delcious', 'mouth', 'jewish', 're-set', 'generic', 'willing', 'tradional', \"'re\", 'suggested', 'green', 'cheesecake', 'Terrible', 'evening', 'Dinner', 'ton', 'Costco', 'Shanghai', 'may', 'tends', 'wake', 'understandable', 'Mine', 'squeeze', 'glasses', 'lambchops', 'members', 'cool', 'vindaloo', 'bitter', 'execution', 'down', 'combination', 'snapple', 'accomplishes', 'oil', 'who', 'Okay', 'IN', 'architecture', 'meals', '6-8', 'tanks', 'frankly', 'TOTALLY', 'closer', 'impossible', 'Hopefully', 'runners', 'promising', 'either', 'xcept', 'saltimbocca', 'names', 'sometimes', 'Wonderful', 'well-executed', 'happened', '3', 'kinda', 'Bottom', 'care', 'both', 'nearby', 'susans', 'Pho', 'FOUR', 'Nha', 'Told', 'Planet', 'SUPER', 'mint', 'gigantic', 'location', 'shining', 'Fridays', 'horedevous', 'customers', 'death', 'thirsty', 'ahead', 'freshness', '300', 'mezzanine', 'infused', 'foods', 'from', 'windows', 'Murray', 'dishes', 'dulce', 'Drinks', 'expect', 'lacked', 'noodle', 'poor', 'vodka', 'barebecued', 'desserts', 'makes', 'tonic', 'sake-friendly', 'write', 'work', 'shout', 'portions', 'Largest', 'favors', 'portioins', 'overflowing', 'Staff', 'similar', 'love', 'pushed', 'stale', 'clueless', 'tiramisu', 'confit', 'looks', 'ABOUT', 'Nanbu', 'floating', 'thing', 'Three', 'mousse', 'UWS', 'mill', 'lasagnette', 'incoming', 'comprised', 'bother', 'gods', 'chopped', 'reserve', 'show', 'intend', 'ran', 'prosecco', 'change', 'recent', 'After', 'There', 'IS', 'notorious', 'dinners', 'genuinely', 'reconsider', 'mascarpone', 'unobtrusive', 'four', 'recognition', 'icing', 'Francois', 'un-tasty', 'are', 'forget', '1', 'sum', 'concept', 'Squid', 'quaint', 'basically', 'pot', 'Singapore', 'wasting', 'Hutner', 'Unique', 'relax', 'Haru', 'appropriate', 'de', 'yuzu', 'left', 'intitally', 'got', 'ethnic', 'quail', 'high', 'peep', '13', 'oatmeal', 'bombay', 'excellent', 'mahal', 'long', 'much', 'recently', 'sicilian', 'chaat', 'lean', 'dessert', 'Style', 'all-Italian', 'chow', '9', 'Mermaid', 'mango', 'says', 'Whenever', 'everyone', 'Scallop', 'While', 'flat', 'nudged', 'ocasionally', 'buck', 'system', 'diamond', 'missed', 'called', 'Hudson', 'frozen', 'title', 'ago', 'chewy', 'drawback', 'insultingly', 'times', 'Greengrass', 'Fun', 'chose', '2006', 'rushed', 'cafe', 'saet', 'surely', 'varities', 'tramezzinis', 'romantic', 'plate', 'sad-looking', '1oz', 'consisted', 'idle', 'link', 'Cobb', 'Paneer', 'boiled', 'artery-clogging', 'Ok', 'Thia', 'mild', 'NYC', 'Pastrami', 'consomme', 'seaweed', 'Thai', 'virgins', 'selecion', 'jalapeno', 'paper', 'special', 'Mizu', 'info', 'Whether', 'her', 'matches', 'lines', 'Po', '14.95', 'tea', 'fastest', 'ridiculous', 'dozen', 'mimosas', 'plastic', 'Ow', 'block', 'opening', 'obliged', 'Reasonable', 'Their', 'fetish', 'pay', 'thinking', 'able', 'red', 'boyfriend', 'vegtables', 'Sake', 'saving', 'lettuce', 'outragous', 'Service', 'comment', 'warm', 'Salmon', 'eaters', 'attitude', 'lifted', 'than', 'thought', 'treatment', 'EMPTY', 'Spice', 'logic', 'spilled', 'slurry', 'offering', 'Lived', 'supposed', 'probably', 'additional', 'old', 'freshwater', 'immediately', 'ceiling', 'exciting', 'vow', 'delighted', 'late', 'Pony', 'AN', 'cocktail', 'warn', 'potential', 'soggy', 'lives', 'saved', 'crammed', 'reviews', 'spaghetti', 'Tikka', 'molars', 'allow', 'faired', 'die', 'pleasant', 'returned', 'ASKED', 'management', 'Cabernet', 'Michelin', 'traffic', 'White', 'conversations', 'somethings', 'Mignon', '2', 'porcini', 'they', 'large', 'Marks', 'PRICES', 'Pudding', 'few', 'customer', 'WOW', 'lollies', 'anymore', '~', 'ie', 'ground', 'Salvatore', 'during', 'Caviar', 'Quality', 'turkey', 'something', 'Friday', 'reminds', 'phenomenal', 'Staffs', '2nd', 'fix', 'overlook', 'Frites', 'ripped', 'company', 'spread', 'receipies', 'held', 'His', 'pleased', 'late-night', 'impecable', 'h', 'Quick', 'situated', 'calamari', 'classical', 'cozy', 'eastsider', 'loving', 'berate', 'Wo', 'once', 'dinner', 'weeks', 'sounds', 'lots', 'cheaper', 'restaraurant', 'hustled', 'murky', 'persons', 'kind', 'about', 'Next', 'hottest', 'terrible', 'meats', 'less', 'wine-by-the-glass', 'prior', 'perfection', 'sets', 'messy', 'sandwiches', 'make', 'Ciro', 'Until', 'table', 'cosmopolitan', 'told', 'explain', 'only', 'walk', 'overpriced', 'entertaining', 'understood', 'penang', 'Nose', 'alright', 'unattractive', 'BOWL', 'decreased', 'warming', 'low', 'given', 'yes', 'Priced', 'rearely', 'adequately', 'member', \"W'burg\", 'big', 'Several', 'comments', 'owner', 'compare', 'were', 'fillings', 'intimate', 'gari', 'understand', 'Bill', 'baby', 'Cashew', 'original', 'scene', 'cole', 'true', 'afternoon', 'fast', 'point', 'NY', 'English', 'Murrays', 'eggplant', 'minimalist', 'Angry', 'neighboors', 'higher', 'Still', 'Unless', 'huge', 'been', 'wish', '5', 'bacos', 'Del', 'bread', 'Parmigana', 'pans', 'dosa', 'sparse', 'finish', 'heads', 'stylish', 'For', 'second', 'removing', 'mix', 'nights', 'noticicing', 'whim', 'noisy', 'noticed', 'white', 'tikka-masala', 'Pongsri', 'Anyway', 'breast', '(', 'hotspot', 'pick', 'section', 'impresses', 'stir', 'displayed', 'reasonable', 'pepper', 'vegetarians', 'tasteless', 'MSG', 'mussels', 'shoestring', 'Dal', 'conclusion', 'tho', 'wontons', 'Wong', 'handle', 'favorites', 'Anyways', 'Monday', 'peanut', 'mozz', 'multiples', 'proprietor', 'difficult', 'fairly', 'sugar', 'blah', 'while', 'somewhere', 'parmesan', 'yours', '6th', 'necessary', 'doughy', 'Gnocchi', 'One', 'meatballs', 'starter', 'meetings', 'see', 'yum', 'chefs', 'previous', 'dollars', 'terrace', 'actresses', 'trouble', 'encountered', 'pinot', 'catering', 'luck', 'flavour', 'sour', 'substantial', 'Schimmel', 'walls', 'manager', 'his', 'ration', 'tapioca', 'bank', 'anyone', 'space', 'delictable', 'dainty', 'fair', 'top-notch', 'chain', 'cold', 'blantently', 'wine', '3pm', 'used', 'Bart', 'promised', 'occassion', 'cup', 'lawns', 'consistent', 'Considering', 'right', 'turns', 'roofdeck', 'Regardless', 'apps', 'Strokes', 'Marcelo', 'bland', 'Baluchi', 'chill', 'extremely', 'icy', 'gift', 'anti-pasta', 'Narone', 'Hamburgers', 'ACTORS', 'wow', 'harkens', 'lumpy', 'entree', 'ofr', 'striped', 'shut-down', 'seafood', 'celebration', '45', 'conditioning', 'avenue', 'discovered', 'hollondaise', 'forward', 'app', 'Example', 'patio', 'Disappointing', 'pasta', 'Worse', 'slices', 'Tokyo', 'adds', 'salmon', 'Pizza', 'oasis', 'seem', 'reached', 'wonderful', 'all-business', 'home', 'Interesting', 'desired', 'punk', 'attention', 'deemed', 'expected', 'detailed', 'batter', 'potato', 's', 'sunglasses', 'checking', 'thier', 'moment', 'Neapolitan', 'gratis', 'surface', 'burgers', 'gimmicks', 'OK', 'Tamari', 'bruschettas', 'seating', 'spring', 'Mahal', 'poured', 'gives', 'Blue', 'no-class', 'various', 'rye', 'seasoning', 'garlic', 'fried', 'PERRRRRRRRRFECT', 'surprise', 'ended', 'lucky', 'restuarant', 'stauff', 'pumkin', 'Sum', 'felt', 'Shredded', 'melts', '8.95', 'imported', 'free', 'noise', 'attitudes', 'Stick', 'him', 'atlhough', 'hands', 'name', 'benches', 'lover', 'more', 'LOBSTER', 'exception', 'rolls', 'Same', 'generously', 'adequate', 'chart', 'round', 'Tamarind', 'heard', 'enjoyed', '!', 'MUST', 'threw', 'Montparnasse', 'Incredible', 'cost', 'parties', 'mud', 'rock', 'efficiently', 'bruschetta', 'arugula', 'non-intrusive', 'Lower', 'category', 'strong', 'isnt', 'Make', 'primi', 'ignore', 'tracks', 'opinion', 'considering', 'lemonade', 'since', 'favorite', 'checked', 'ive', 'perfectly', 'Pork', 'whenever', 'serving', 'skew', 'weekend', 'egg', 'requests', 'spend', 'America', 'funky', 'Food', 'listed', 'Big', 'ourselves', 'seasoned', 'reason', 'Sal', 'Kha', 'pastry', 'wondered', 'leave', 'hanging', 'without', 'not-so-fresh', 'touched', 'dont', 'largest', 'specifically', 'adorn', 'puke', 'doors', 'maitre', 'shoulders', 'strange', 'quiet', '1st', 'embracing', 'weather', 'Fixe', 'Gulab', 'size', 'two', 'chicken', 'covering', 'REALLY', 'easily', 'porridge', 'mashed', 'flagship', 'ready', 'stay', 'decore', '40', 'Having', 'balsamic', 'recomends', 'blossoms', 'amanzing', 'description', 'short-term', 'palak', 'against', 'decidedly', 'tell', 'nyc', 'behind', 'proceeded', 'city', 'offer', 'far', 'fridge', 'Northern', 'Rao', 'spot', 'clubhouse', 'biggest', 'sunday', 'Frisco', 'I', 'drawn', 'significant', 'Taipei', 'refilled', 'variety', 'hall', 'Yet', 'Unda', 'wind', 'juice', 'website', 'passion', 'Ratio', 'secondi', 'hoist', 'hunan', 'Ingredients', 'managers', 'healthy', 'money', 'gracious', '3-course', 'Shell', 'exterminator', 'grew', 'awkardly', 'juicy', 'bustling', 'CUISINE', 'recomendations', 'local', 'record', 'Haze', 'girl', 'showed', 'Winnie', 'Being', 'thin-crust', 'weekday', 'resident', 'Drawbacks', 'take', 'ripoff', 'Villa', 'Seriously', 'scatty', 'Bagels', 'walking', 'nosiy', 'everywhere', 'Seine', 'companionship', 'mentioned', 'resturant', 'realize', 'vegatables', 'clearly', 'edamames', 'Clam', 'witness', 'risotto-yum', 'long-time', 'truffle', 'trang', 'lime', '+', 'dough', 'major', 'cours', 'Joe', 'alot', 'wall', 'aND', 'Chops', 'souffle', 'somosas', 'needed', 'meaningless', 'appetizer', 'conversation', 'female', 'Mondays', 'mind-blowing', 'happier', 'L', 'as', 'favor', 'Heartland', 'consisent', 'Egg', 'jsut', 'requested', 'As', 'lentil', 'lb', 'ingredients', '10-piece', 'OF', 'yrs', 'nebbiolo', 'real', 'best', 'cans', 'goes', 'sample', 'Wine', 'meet', 'watering', 'freshly', 'justify', 'split', 'even', 'often', 'cheese', 'Be', 'descent', '9pm', 'accept', '8pm', 'brulee', 'overly', 'More', 'acousitcs', 'captain', 'spiced', 'we', 'medium', 'turned', 'conveyor', 'ambience', 'if', 'COMPACT', 'Purple', 'cheff', 'burned', 'decor', 'inedible', 'mostly', 'authentic', 'afterwards', 'serious', 'for', 'serve', 'notice', 'undercooked', 'wooden', 'dimsum', 'upper', 'following', '3am', 'outisde', 'Just', 'visited', 'Sterling', 'ages', 'flavor', 'shortly', 'anything', 'glorified', 'prompt', 'gets', 'risotto', 'benedict', 'nice', 'imagination', 'When', 'leafy', 'pack', 'Luckily', 'bridge', 'QPR', 'Ridge', 'wrapped', 'music', 'liked', 'attached', 'sell', 'conveniently', 'that', 'background', 'Barbecued', 'famished', 'hesitate', 'delightfully', 'May', 'mesh', 'manhattan', 'reccommend', 'french', 'narrow', 'warrant', 'chin', 'korma', 'pretty', 'meat', 'pizzaria', 'spreads', 'Wow', 'underdeserving', 'cheeseburger', 'kill', 'congee', 'kofta', 'promptly', 'accustomed', 'spicy', 'THE', 'flour', 'Sapphire', 'fact', 'Highly', 'devoted', 'triple-decker', 'dollar', 'l', 'fat', 'planning', 'VERY', 'weird', 'site', 'upstate', 'should', 'interrupted', 'attractive', 'candle', 'portobello', 'father', 'wonderfully', 'measures', 'Nevertheless', 'self', 'Chicken', 'an', 'personality', 'bouche', 'leads', 'aesthetics', 'fancy', 'sampler', 'wouldnt', 'voices', 'disaster', 'basketful', 'gone', 'live', 'tasty', 'noon', 'tiem', 'assortment', 'weak', 'efficient', 'seltzer', 'rainy', 'Free', 'semi-private', 'Do', 'gret', 'lot', 'unattentive', 'allowed', 'wrong', 'can', 'Kruno', 'combo', 'veal', 'Chinese', 'lage', 'amuse', 'Monte', 'casual', 'stickler', 'typical', 'versus', 'Great', 'caserole', 'Top', 'goodness', 'which', 'samosa', 'unlike', 'Meanwhile', 'then', 'hardly', 'cokes', 'taking', 'broken', 'brunch', 'snack', 'legion', 'crust', 'means', 'excelent', 'rude', 'unappealing', 'rally', 'lotus', 'celebrations', 'include', 'lamb', 'exceptional', 'food', '40times', 'Lobster', 'Sq.', 'curiously', 'counters', 'Dessert', 'inconsistency', 'spending', 'Turned', 'aweful', 'Decor', 'because', 'beans', 'premium', 'river', '90', 'AVOID', 'myriad', 'roll', 'College', 'sausages', 'Personal', 'every', 'overpraised', 'non-veg', 'jamun', 'break', 'occasion', 'GREAT', 'person', 'instead', 'atmoshere', 'sweet', 'entrees', 'rare', '12-14', 'bottom', 'remorse', 'tai', 'wash', 'paella', 'pub', 'They', 'penny', 'Tuesday', 'Salads', 'flooded', 'bang', 'having', 'Besides', 'thoroughly', 'rarely', 'crabmeat', 'hipsters', '3x', 'crushed', 'Although', 'remaining', 'drink', 'thus', 'SLOW', 'River', 'visiting', 'Bijin', '$', ')', 'cucumbers', 'pearls', 'freshest', 'tempura', 'doneness', 'Yeah', 'spice', 'ranging', 'lava', 'facing', 'RICE', 'clams', 'doing', 'playfull', 'Note', 'martinis', 'No', 'beautifully', 'Went', 'incompetent', 'quite', 'bass', 'proudly', 'concluded', 'incompetency', 'lip', 'Week', 'note', 'same', 'dinosaur', 'boxed', 'apple', 'this', 'fatty', 'treat', 'yorkie', 'overall', 'super-trendy', 'potatoes', 'minutes', 'Unfortunately', 'assorted', 'options', 'apology', 'da', 'please', 'gourmet', 'putting', 'custards', 'bucks', 'sastifying', 'scrumptious', 'sushimi', 'Octopus', 'selection', 'coat', 'main', 'top', 'Jekyll', 'above-average', 'Authentic', 'choose', 'reasonably-sized', 'bistro-type', 'however', 'sit', 'agree', 'This', 'soo', 'had', 'escargot', 'bartender', 'touch', 'backyard', 'replied', 'glazed', 'Got', 'lays', 'oil-brushed', 'Steven', 'excuse', 'culinary', 'go-to', 'Japan', 'advance', 'INITIALLY', 'Ave', 'disgusting', 'DOLLARS', 'frantic', 'appear', 'calm', 'BBQ-ed', 'Park', 'aanother', 'asked', 'frustrating', 'jelly', 'downside', 'parched', 'prooudly', 'consider', 'roxy', 'courtesey', 'cuisine', 'Have', 'flavorful', 'miss', 'repeatable', 'Point', 'east', 'engaging', 'spices', 'progress', 'present', 'extreme', 'Seating', 'stop', 'creatures', 'cannoli', 'devoid', 'waitresses', 'obviously', 'Nicky', 'Diner', 'till', 'load', 'Eating', 'London', 'received', 'knows', 'sommelier', 'Chinatown', 'unconventional', 'agreed', 'SEA', 'informative', 'comfort', 'panini', 'Consistently', \"she's-way-cuter-than-me-that-b@#$*\", 'fry', 'grating', 'Should', 'Carlo', 'exotic', 'chops', 'draw', 'making', 'Sichuan', 'FANTASTIC', 'bars', 'Street', 'eats', 'Achilles', 'blocks', 'Among', 'toward', 'recommendation', 'dealt', 'eater', 'dogs', 'sauce', 'currys', 'Yonah', 'ARE', 'regret', 'vibe', 'Torro', 'unappreciative', 'specials', 'Really', 'rating', 'approx', 'matter', 'wan', 'sake', 'deposit', 'at', 'search', 'guest', 'items', 'choice', 'complaint', 'First', 'outstanding', 'fingers', 'Tofu', 'dare', '!!', 'Had', 'Any', 'Fin', 'yourselves', 'noir', 'film', 'months', '9:30', 'frying', 'warned', 'appreciate', \"'ll\", 'cocktails', 'telling', 'ever', 'burger', 'found', 'sweetness', 'plus', 'surroundings', 'award', 'california', 'scrapped', 'or', 'sorry', 'Knowledge', 'board', 'La', 'You', 'rubber', 'figs', 'Crosby', 'MOSHPHERE', 'paired', 'allergies', 'warmed', 'delicate', 'alluring', 'excellent-the', 'heel', 'certain', 'casualness', 'City', 'bar', 'people', 'Ping', 'Super', 'She', 'arent', 'jem', 'martini', 'Despite', 'along', 'actors', 'host', 'US', 'memorial', 'course', 'watching', 'gabriella', '4', 'squeezed', 'iceberg', 'impress', 'knocking', 'not-so-frequent', 'sommlier', 'dank', 'stars', 'said', 'Ray', 'tips', 'Ambiance', 'stocked', 'friendliest', 'nosh', 'Warm', 'seafoods', 'among', 'pride', 'Did', 'pleasurable', 'gras', 'Plate', 'snacking', 'decrease', 'bring', 'st.', 'expensive', 'otherworldly', 'explanations', 'hidden', 'dis', '?', 'sticks', 'sent', 'tomatoes', 'magnificant', 'prosciutto', 'tortelini', 'sandwhich', 'M', 'number', 'fully', 'remind', 'own', 'manydifferent', 'rasamalai', 'bargain', 'breathe', 'slaw', 'gentleman', 'run', 'nt', 'COZY', 'furniture', 'crunchy', 'worst', 'odd', 'least', 'buds', 'sadly', 'Small', 'Made', 'Dip', 'beatiful', 'rave', 'road', 'packaged', 'loud', 'important', 'burnt', 'Happy', 'hipster-wannabe', 'european', 'mannered', 'Better', 'March', 'machine', 'realy', 'delight', 'value', 'charm', 'fell', 'lacking', 'secret', 'topped', 'COMPLAINT', 'coffee', 'turnover', 'orrechiete', 'melt-in-your-mouth', 'off', 'clients', 'eye', 'known', 'coconut', 'Definite', 'weekly', 'cooked', 'in-house', \"'m\", 'impecible', 'stuff', 'The', 'craving', 'collection', 'plain', 'minimun', 'lined', 'During', 'order', 'dish', 'marvelous', 'faces', 'strawberry', 'almost', 'lad', 'chip', 'interested', 'chef', '2-3', 'set', 'rivals', 'but', 'finding', 'surprises', '`', 'close', 'considered', 'refills', 'looked', 'waited', 'advice', 'roast', 'time', 'Chocolate', 'Southern', 'daiquiries', 'clear', 'instantly', 'capable', 'setting', 'Ups', '16', 'visitor', 'attendant', 'uneven', '347', 'Of', 'caviar', 'grass', 'vibrant', 'throw', 'else', 'dumpling', '15-20', 'refined', 'converted', 'exellent', 'gem', 'neighborhood', 'mahi', 'piled', 'Crispy', 'wished', 'deliver', 'treated', 'Always', 'teapot', 'area', 'someplace', 'reservations', 'Naples', 'fries', 'Dim', 'upscale', '???', 'insde', 'booth', 'light', 'decision', 'somewhat', 'temperatures', 'sizes', 'treats', 'reality', 'proportioned', 'marsala', 'tip', '40pp', 'Given', 'pints', 'toaster', 'specia', 'Bronx', 'presented', 'healthy-looking', 'tupperware', 'was', 'Scallion', 'frequently', 'not-so-little', 'produce', 'raw', 'simplicity', 'skip', 'Godfather', 'action', 'snag', 'whole', 'shared', 'rigid', 'PUT', 'abroad', 'fresh', 'gorgeous', 'with', 'pork', 'transported', 'dosas', 'also', 'salad', 'rush', 'owns', 'mean', 'couple', 'Second', 'came', 'between', 'Average', 'surprised', 'Roll', 'absolutely', 'crew', 'Thalia', 'Also', 'thh', 'hate', 'famous', 'traditional', 'Truly', 'platters', 'their', 'stuck', 'bistro', 'iced', 'blend', 'toast', 'seved', 'Chennai', 'vault', 'save', 'Veal', 'neglected', 'knowing', 'kinds', 'stressed', 'Lunch', 'carozza', 'POOR', 'flavors', 'forgettable', '18', 'whom', 'crowd', 'St.', 'Ew', 'cheeky', 'wild', 'Margarita', 'ruined', 'trout', 'changed', 'My', 'airport', 'questions', 'experiences', 'Tal', 'upstairs', 'e.', '2003', 'Cambridge', 'industry', 'tend', 'CHUNKS', 'garden', 'hearty', 'burning', 'after-theatre', 'foie', 'Square', 'Nothing', 'other', 'Vittorio', 'Each', 'u', 'Ambience', 'these', 'New', 'loaded', 'dining', 'Fornino', 'nevertheless', 'york', 'Definitely', 'remembers', 'unbeliavably', 'liquers', 'Tonino', 'ar', 'became', 'unbearably', 'evoked', 'BE', 'banana', 'personal', 'utter', 'Duck', 'cleaned', 'actually', 'Opera', 'sichuan', 'Poivre', 'Bisque', 'sort', 'hesititate', 'scallops', 'onion', 'inventive', 'smiles', 'kids', 'complimentary', 'residents', 'hummus', 'sweet-n-tart', 'tikka', 'ease', 'Looking', 'apppetizers', 'seldom', 'elsewhere', 'oysters', 'SHOWS', 'groups', 'thawed', 'intermediate', 'ATROCIOUS', 'leche', 'accurate', 'Probably', 'Typhoon', 'Dosa', 'paid', 'relaxed', 'Metrazur']\n"
     ]
    }
   ],
   "source": [
    "model=ft_model\n",
    "print(model)\n",
    "words = list(model.wv.vocab)\n",
    "print(\"\\nWords in vocabulary: \")\n",
    "print(words)"
   ]
  },
  {
   "cell_type": "code",
   "execution_count": 19,
   "metadata": {
    "ExecuteTime": {
     "end_time": "2018-12-28T18:45:09.762984Z",
     "start_time": "2018-12-28T18:45:09.638538Z"
    }
   },
   "outputs": [
    {
     "name": "stdout",
     "output_type": "stream",
     "text": [
      "[('Monday', 0.9963930249214172), ('wrong', 0.996337354183197), ('Plate', 0.9962970018386841), ('Late', 0.9962823390960693), ('cours', 0.9962821006774902), ('heart', 0.9962745904922485), ('pour-your-own', 0.9962595701217651), ('Saturday', 0.9962563514709473), ('heavy', 0.9962325096130371), ('Same', 0.996202290058136)]\n",
      "[-0.01773092 -0.3080113  -0.5289587   0.29436553 -0.02114287  0.03985438\n",
      " -0.0993406   0.20264676 -0.03148663  0.18313012  0.19075564  0.16572249\n",
      " -0.07415963  0.07145736 -0.16134894  0.17128366 -0.3770321  -0.5219213\n",
      "  0.19671847  0.0546744  -0.12960625  0.143391    0.1536946  -0.16782169\n",
      "  0.3059072  -0.26570055 -0.15548475  0.61265695  0.17597759  0.04132773\n",
      "  0.10734734 -0.10166425 -0.17075798 -0.24532662 -0.01053284 -0.18816967\n",
      " -0.00221714  0.32405722 -0.3150601  -0.20493652  0.13765484  0.45668942\n",
      " -0.02560024  0.01912116 -0.13708204 -0.15529403 -0.26201174 -0.06375071\n",
      " -0.08799293 -0.24105263 -0.11426369 -0.03450843  0.16974092 -0.24696541\n",
      "  0.19054057 -0.0383174   0.18622477 -0.10717701  0.13945831 -0.13524166\n",
      " -0.10901097  0.18906268 -0.10034361 -0.02218877 -0.299276    0.207767\n",
      "  0.30458957 -0.15825409 -0.1542562   0.4393078   0.02885465  0.06193335\n",
      " -0.09508006  0.05586813 -0.3247768   0.364892   -0.08143608 -0.57244146\n",
      "  0.20022751 -0.11210157 -0.12293497 -0.06683585  0.02450719 -0.21836813\n",
      "  0.0268893   0.08588845  0.4735501   0.15098378 -0.06110505  0.39156976\n",
      " -0.19907063 -0.14780182 -0.13653994 -0.4052788   0.10188384  0.23291074\n",
      " -0.0093588   0.46766335  0.0111594   0.04235555 -0.22404186  0.03537184\n",
      " -0.08909753 -0.18105459 -0.19718921  0.20476943  0.3292406   0.08195713\n",
      " -0.29355842  0.11227228 -0.3333205  -0.03155008 -0.12731794 -0.0905546\n",
      "  0.44183683 -0.39434448  0.25051206  0.60359025  0.38961992  0.04666855\n",
      "  0.26450104  0.22263514 -0.10122865  0.29927877 -0.28386644 -0.09490643\n",
      "  0.16709436  0.17858687  0.38828683 -0.04386406 -0.41557103  0.05328545\n",
      " -0.21168064 -0.31990346 -0.01370877  0.3615884   0.14822716 -0.36385325\n",
      "  0.16925374 -0.04354154  0.26301017 -0.17271143 -0.13263506  0.27066886\n",
      "  0.11581036  0.49412    -0.34577462  0.24289295  0.06295416  0.12639074\n",
      " -0.14053185 -0.06760415  0.2166888   0.09323106  0.06703519 -0.0250006\n",
      " -0.00432078 -0.0947161   0.06799411  0.23395902 -0.08855466  0.13686132\n",
      "  0.04788903  0.01447779 -0.04183524  0.10657861 -0.14443563 -0.16086401\n",
      "  0.32317424 -0.0666657   0.1340827  -0.06019375 -0.12596595 -0.0884243\n",
      "  0.20428914  0.07814626 -0.08951579  0.10991324 -0.342608    0.00552335\n",
      " -0.29277945  0.15725154 -0.18579488  0.01523509  0.27393025 -0.04270992\n",
      " -0.00603178 -0.03027472 -0.24003874  0.03322089  0.07857358  0.08399584\n",
      "  0.09713188  0.1222901  -0.0361728   0.1489526   0.10215893 -0.09267016\n",
      "  0.05165029  0.12645142 -0.10867355 -0.11027091 -0.03753522 -0.08474454\n",
      "  0.34186772  0.38497907  0.14508435 -0.28866217  0.00342765 -0.09444983\n",
      " -0.09807178 -0.02960937  0.00378668  0.16510078 -0.15750133 -0.24897337\n",
      " -0.36718974 -0.1385474   0.11493605 -0.11292689 -0.04021661 -0.24089575\n",
      "  0.3298006   0.5074958  -0.23037219 -0.06195272 -0.09323093 -0.23032433\n",
      "  0.47650513 -0.05703762  0.07128003  0.07282659 -0.21167184 -0.01757012\n",
      " -0.07433735  0.1619865   0.13709669 -0.13529201 -0.2024232  -0.2445585\n",
      " -0.09584517  0.30663234  0.12044755 -0.05777293 -0.0822381   0.25716585\n",
      "  0.0354512   0.20578007 -0.10349676 -0.09286144 -0.1118771  -0.08132634\n",
      " -0.09022568 -0.22437066 -0.02350043  0.5690313   0.0971091  -0.0720309\n",
      " -0.00154778  0.12283362  0.1392661   0.2599303  -0.09946069  0.08991766\n",
      "  0.058253    0.18168761  0.10540839  0.04628124 -0.14261398 -0.13835354\n",
      " -0.4530743  -0.11141919  0.16442023 -0.20394813  0.02103553  0.07090639\n",
      " -0.05183461 -0.06451645  0.02620765 -0.07837486  0.03217225 -0.15947153\n",
      " -0.2154332  -0.08350437 -0.0235613  -0.24546178  0.02289601 -0.01296864\n",
      "  0.14345062 -0.2788283  -0.03421761 -0.01891606 -0.32649    -0.18759483\n",
      "  0.10604993 -0.20902716  0.19291367 -0.02824287  0.1342865   0.16892087]\n"
     ]
    },
    {
     "name": "stderr",
     "output_type": "stream",
     "text": [
      "/home/priyansh.agrawal/py3_env/lib/python3.5/site-packages/gensim/matutils.py:737: FutureWarning: Conversion of the second argument of issubdtype from `int` to `np.signedinteger` is deprecated. In future, it will be treated as `np.int64 == np.dtype(int).type`.\n",
      "  if np.issubdtype(vec.dtype, np.int):\n",
      "-c:6: DeprecationWarning: Call to deprecated `__getitem__` (Method will be removed in 4.0.0, use self.wv.__getitem__() instead).\n"
     ]
    }
   ],
   "source": [
    "##Testing OOV wod vectors and similarity checks\n",
    "w1='dirty'\n",
    "print(model.wv.most_similar(positive=w1))\n",
    "# access vector for OOv word\n",
    "w2=\"sasasvdgfsg\"\n",
    "print(model['sentence'])"
   ]
  }
 ],
 "metadata": {
  "kernelspec": {
   "display_name": "IPython (Python 3)",
   "language": "python",
   "name": "python3"
  },
  "language_info": {
   "codemirror_mode": {
    "name": "ipython",
    "version": 3
   },
   "file_extension": ".py",
   "mimetype": "text/x-python",
   "name": "python",
   "nbconvert_exporter": "python",
   "pygments_lexer": "ipython3",
   "version": "3.5.2"
  }
 },
 "nbformat": 4,
 "nbformat_minor": 2
}
